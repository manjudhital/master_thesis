{
 "cells": [
  {
   "cell_type": "markdown",
   "metadata": {},
   "source": [
    "Basic neural network using jax"
   ]
  },
  {
   "cell_type": "markdown",
   "metadata": {},
   "source": [
    "importing libraries"
   ]
  },
  {
   "cell_type": "code",
   "execution_count": 11,
   "metadata": {},
   "outputs": [],
   "source": [
    "import jax\n",
    "import jax.numpy as jnp\n",
    "from jax import random, grad\n",
    "import optax"
   ]
  },
  {
   "cell_type": "markdown",
   "metadata": {},
   "source": [
    "# Set random key for reproducibility\n"
   ]
  },
  {
   "cell_type": "code",
   "execution_count": 17,
   "metadata": {},
   "outputs": [
    {
     "name": "stdout",
     "output_type": "stream",
     "text": [
      "[0 0]\n"
     ]
    }
   ],
   "source": [
    "key = random.PRNGKey(0)\n",
    "print (key)"
   ]
  },
  {
   "cell_type": "markdown",
   "metadata": {},
   "source": [
    "# Define network architecture\n"
   ]
  },
  {
   "cell_type": "code",
   "execution_count": 19,
   "metadata": {},
   "outputs": [],
   "source": [
    "input_size = 2  # Number of input features\n",
    "hidden_size = 4  # Number of hidden layer neurons\n",
    "output_size = 1  # Output size"
   ]
  },
  {
   "cell_type": "markdown",
   "metadata": {},
   "source": [
    "# Initialize weights and biases for two layers"
   ]
  },
  {
   "cell_type": "code",
   "execution_count": 48,
   "metadata": {},
   "outputs": [],
   "source": [
    "\n",
    "def init_weights(key, input_size, hidden_size, output_size):\n",
    "    key, subkey = random.split(key)\n",
    "    # print (\"key \" , key, \"subkey \" , subkey)\n",
    "    W1 = random.normal(subkey, (input_size, hidden_size)) * 0.1  # First layer weights\n",
    "    b1 = jnp.zeros(hidden_size)  # First layer bias\n",
    "    key, subkey = random.split(key)\n",
    "    W2 = random.normal(subkey, (hidden_size, output_size)) * 0.1  # Second layer weights\n",
    "    b2 = jnp.zeros(output_size)  # Second layer bias\n",
    "    return W1, b1, W2, b2"
   ]
  },
  {
   "cell_type": "markdown",
   "metadata": {},
   "source": [
    "# Define the forward pass function\n"
   ]
  },
  {
   "cell_type": "code",
   "execution_count": 49,
   "metadata": {},
   "outputs": [],
   "source": [
    "def forward(W1, b1, W2, b2, X):\n",
    "    hidden = jnp.dot(X, W1) + b1\n",
    "    hidden = jax.nn.sigmoid(hidden)  # Sigmoid activation function\n",
    "    output = jnp.dot(hidden, W2) + b2  # Linear output\n",
    "    return output"
   ]
  },
  {
   "cell_type": "markdown",
   "metadata": {},
   "source": [
    "\n",
    "# Loss function: Mean Squared Error\n"
   ]
  },
  {
   "cell_type": "code",
   "execution_count": 50,
   "metadata": {},
   "outputs": [],
   "source": [
    "def loss_fn(W1, b1, W2, b2, X, Y):\n",
    "    predictions = forward(W1, b1, W2, b2, X)\n",
    "    return jnp.mean((predictions - Y) ** 2)"
   ]
  },
  {
   "cell_type": "markdown",
   "metadata": {},
   "source": [
    "# Set up optimization using Optax\n"
   ]
  },
  {
   "cell_type": "code",
   "execution_count": 102,
   "metadata": {},
   "outputs": [],
   "source": [
    "learning_rate = 0.001\n",
    "optimizer = optax.sgd(learning_rate)"
   ]
  },
  {
   "cell_type": "markdown",
   "metadata": {},
   "source": [
    "# Generate synthetic data (e.g., XOR problem)\n"
   ]
  },
  {
   "cell_type": "code",
   "execution_count": 103,
   "metadata": {},
   "outputs": [],
   "source": [
    "X = jnp.array([[0, 0], [0, 1], [1, 0], [1, 1]])  # 4 examples, 2 features\n",
    "Y = jnp.array([[0], [1], [1], [0]])  # XOR output"
   ]
  },
  {
   "cell_type": "markdown",
   "metadata": {},
   "source": [
    "# Initialize parameters\n"
   ]
  },
  {
   "cell_type": "code",
   "execution_count": 104,
   "metadata": {},
   "outputs": [],
   "source": [
    "params = init_weights(key, input_size, hidden_size, output_size)\n"
   ]
  },
  {
   "cell_type": "markdown",
   "metadata": {},
   "source": [
    "# Initialize the optimizer state\n"
   ]
  },
  {
   "cell_type": "code",
   "execution_count": 105,
   "metadata": {},
   "outputs": [],
   "source": [
    "opt_state = optimizer.init(params)\n"
   ]
  },
  {
   "cell_type": "markdown",
   "metadata": {},
   "source": [
    "# Training loop (simple gradient descent)\n"
   ]
  },
  {
   "cell_type": "code",
   "execution_count": 106,
   "metadata": {},
   "outputs": [
    {
     "name": "stdout",
     "output_type": "stream",
     "text": [
      "Epoch 0, Loss: 0.4249\n",
      "Epoch 100, Loss: 0.3280\n",
      "Epoch 200, Loss: 0.2847\n",
      "Epoch 300, Loss: 0.2654\n",
      "Epoch 400, Loss: 0.2569\n",
      "Epoch 500, Loss: 0.2530\n",
      "Epoch 600, Loss: 0.2514\n",
      "Epoch 700, Loss: 0.2506\n",
      "Epoch 800, Loss: 0.2503\n",
      "Epoch 900, Loss: 0.2501\n",
      "Epoch 1000, Loss: 0.2501\n",
      "Epoch 1100, Loss: 0.2500\n",
      "Epoch 1200, Loss: 0.2500\n",
      "Epoch 1300, Loss: 0.2500\n",
      "Epoch 1400, Loss: 0.2500\n",
      "Epoch 1500, Loss: 0.2500\n",
      "Epoch 1600, Loss: 0.2500\n",
      "Epoch 1700, Loss: 0.2500\n",
      "Epoch 1800, Loss: 0.2500\n",
      "Epoch 1900, Loss: 0.2500\n",
      "Epoch 2000, Loss: 0.2500\n",
      "Epoch 2100, Loss: 0.2500\n",
      "Epoch 2200, Loss: 0.2500\n",
      "Epoch 2300, Loss: 0.2500\n",
      "Epoch 2400, Loss: 0.2500\n",
      "Epoch 2500, Loss: 0.2500\n",
      "Epoch 2600, Loss: 0.2500\n",
      "Epoch 2700, Loss: 0.2500\n",
      "Epoch 2800, Loss: 0.2500\n",
      "Epoch 2900, Loss: 0.2500\n",
      "Epoch 3000, Loss: 0.2500\n",
      "Epoch 3100, Loss: 0.2500\n",
      "Epoch 3200, Loss: 0.2500\n",
      "Epoch 3300, Loss: 0.2500\n",
      "Epoch 3400, Loss: 0.2500\n",
      "Epoch 3500, Loss: 0.2500\n",
      "Epoch 3600, Loss: 0.2500\n",
      "Epoch 3700, Loss: 0.2500\n",
      "Epoch 3800, Loss: 0.2500\n",
      "Epoch 3900, Loss: 0.2500\n",
      "Epoch 4000, Loss: 0.2500\n",
      "Epoch 4100, Loss: 0.2500\n",
      "Epoch 4200, Loss: 0.2500\n",
      "Epoch 4300, Loss: 0.2500\n",
      "Epoch 4400, Loss: 0.2500\n",
      "Epoch 4500, Loss: 0.2500\n",
      "Epoch 4600, Loss: 0.2500\n",
      "Epoch 4700, Loss: 0.2500\n",
      "Epoch 4800, Loss: 0.2500\n",
      "Epoch 4900, Loss: 0.2500\n",
      "Epoch 5000, Loss: 0.2500\n",
      "Epoch 5100, Loss: 0.2500\n",
      "Epoch 5200, Loss: 0.2500\n",
      "Epoch 5300, Loss: 0.2500\n",
      "Epoch 5400, Loss: 0.2500\n",
      "Epoch 5500, Loss: 0.2500\n",
      "Epoch 5600, Loss: 0.2500\n",
      "Epoch 5700, Loss: 0.2500\n",
      "Epoch 5800, Loss: 0.2500\n",
      "Epoch 5900, Loss: 0.2500\n"
     ]
    }
   ],
   "source": [
    "num_epochs = 6000\n",
    "loss=[]\n",
    "for epoch in range(num_epochs):\n",
    "    # Compute gradients\n",
    "    grads = grad(loss_fn)(params, X, Y)\n",
    "    \n",
    "    # Update weights and biases\n",
    "    updates, opt_state = optimizer.update(grads, opt_state, params)\n",
    "    params = optax.apply_updates(params, updates)\n",
    "    \n",
    "    # Print loss every 100 epochs\n",
    "    if epoch % 100 == 0:\n",
    "        current_loss = loss_fn(params, X, Y)\n",
    "        loss.append(current_loss)\n",
    "        print(f\"Epoch {epoch}, Loss: {current_loss:.4f}\")\n",
    "\n"
   ]
  },
  {
   "cell_type": "markdown",
   "metadata": {},
   "source": [
    "plotting loss function"
   ]
  },
  {
   "cell_type": "code",
   "execution_count": 107,
   "metadata": {},
   "outputs": [
    {
     "data": {
      "image/png": "[encoded data removed]",
      "text/plain": [
       "<Figure size 640x480 with 1 Axes>"
      ]
     },
     "metadata": {},
     "output_type": "display_data"
    }
   ],
   "source": [
    "import matplotlib.pyplot as pyplot\n",
    "pyplot.subplot(212)\n",
    "pyplot.title('Mean Squared Error')\n",
    "pyplot.plot(loss, label='train loss')\n",
    "pyplot.legend()\n",
    "pyplot.show()"
   ]
  },
  {
   "cell_type": "markdown",
   "metadata": {},
   "source": [
    "# Final predictions after training\n"
   ]
  },
  {
   "cell_type": "code",
   "execution_count": 88,
   "metadata": {},
   "outputs": [
    {
     "name": "stdout",
     "output_type": "stream",
     "text": [
      "Final predictions: [[0.4821211 ]\n",
      " [0.482998  ]\n",
      " [0.4840128 ]\n",
      " [0.48488232]]\n"
     ]
    }
   ],
   "source": [
    "predictions = forward(params, X)\n",
    "print(\"Final predictions:\", predictions)"
   ]
  },
  {
   "cell_type": "code",
   "execution_count": null,
   "metadata": {},
   "outputs": [],
   "source": []
  }
 ],
 "metadata": {
  "kernelspec": {
   "display_name": "py",
   "language": "python",
   "name": "python3"
  },
  "language_info": {
   "codemirror_mode": {
    "name": "ipython",
    "version": 3
   },
   "file_extension": ".py",
   "mimetype": "text/x-python",
   "name": "python",
   "nbconvert_exporter": "python",
   "pygments_lexer": "ipython3",
   "version": "3.12.7"
  }
 },
 "nbformat": 4,
 "nbformat_minor": 2
}
