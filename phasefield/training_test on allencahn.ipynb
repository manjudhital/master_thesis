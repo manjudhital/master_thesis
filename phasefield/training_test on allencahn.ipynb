version https://git-lfs.github.com/spec/v1
oid sha256:5ef33741bb133e06a1d4ce5872d178a603c1a4633ff5188f38eafdd112415338
size 404456
