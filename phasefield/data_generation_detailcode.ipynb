version https://git-lfs.github.com/spec/v1
oid sha256:db5e10297ae378f0cfe7417cf34a6c94085b334b0669d3cedcff6ab04bf903c8
size 3793396
