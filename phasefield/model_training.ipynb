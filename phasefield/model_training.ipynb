version https://git-lfs.github.com/spec/v1
oid sha256:25f4106463c4366fd20cfb7f0cb1e3957623047cc58c64169d257177de5d4911
size 2324994
