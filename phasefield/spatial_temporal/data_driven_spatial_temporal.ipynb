version https://git-lfs.github.com/spec/v1
oid sha256:aff4a35337e5e131786c859c861059ccbbd9fc075261e1d13e7b3f40302e94cb
size 107033
