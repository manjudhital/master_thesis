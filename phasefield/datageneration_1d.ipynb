version https://git-lfs.github.com/spec/v1
oid sha256:b6c8e25fa3f5f6cb45d0a34fce39b1c461d76be8724128e0935935b26687de4c
size 6448
