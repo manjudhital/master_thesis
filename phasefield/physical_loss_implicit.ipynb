version https://git-lfs.github.com/spec/v1
oid sha256:f7ab50d8d2143e7a808faa9c3603cd53f8b0f39b069ed28d947d7d9a3177d898
size 814371
