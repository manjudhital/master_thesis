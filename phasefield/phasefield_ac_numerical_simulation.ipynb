version https://git-lfs.github.com/spec/v1
oid sha256:bbb87d1508c51d495a0613fc2603d052c94ff37fc70d625be8e682f9a8378a44
size 205630
