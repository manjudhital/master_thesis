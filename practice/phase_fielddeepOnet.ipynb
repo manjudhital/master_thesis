{
 "cells": [
  {
   "cell_type": "markdown",
   "metadata": {},
   "source": [
    "importing the request libaries"
   ]
  },
  {
   "cell_type": "code",
   "execution_count": 6,
   "metadata": {},
   "outputs": [],
   "source": [
    "import jax\n",
    "import jax.numpy as jnp\n",
    "from jax import grad, random\n",
    "import matplotlib.pyplot as plt"
   ]
  },
  {
   "cell_type": "code",
   "execution_count": 12,
   "metadata": {},
   "outputs": [
    {
     "name": "stdout",
     "output_type": "stream",
     "text": [
      "[2285895361 1501764800] [1518642379 4090693311]\n",
      "Epoch 0, Loss: 16.48948097229004\n",
      "Epoch 100, Loss: 6.975699424743652\n",
      "Epoch 200, Loss: 0.803594708442688\n",
      "Epoch 300, Loss: 0.1405828297138214\n",
      "Epoch 400, Loss: 0.04395536705851555\n",
      "Epoch 500, Loss: 0.021026697009801865\n",
      "Epoch 600, Loss: 0.013989346101880074\n",
      "Epoch 700, Loss: 0.011158399283885956\n",
      "Epoch 800, Loss: 0.009862066246569157\n",
      "Epoch 900, Loss: 0.009217103943228722\n"
     ]
    },
    {
     "data": {
      "image/png": "[encoded data removed]",
      "text/plain": [
       "<Figure size 640x480 with 1 Axes>"
      ]
     },
     "metadata": {},
     "output_type": "display_data"
    },
    {
     "name": "stdout",
     "output_type": "stream",
     "text": [
      "Predictions: [[0.85707045]]\n",
      "(1, 2)\n"
     ]
    }
   ],
   "source": [
    "\n",
    "\n",
    "# Define the two-layer neural network\n",
    "def two_layer_nn(params, x):\n",
    "    W1, b1, W2, b2 = params\n",
    "    h = jax.nn.relu(jnp.dot(x, W1) + b1)  # Hidden layer with ReLU activation\n",
    "    output = jnp.dot(h, W2) + b2  # Output layer\n",
    "    # print(output.shape)\n",
    "    return output\n",
    "\n",
    "# Define the mean squared error loss\n",
    "def mse_loss(params, x, y):\n",
    "    preds = two_layer_nn(params, x)\n",
    "    return jnp.mean((preds - y) ** 2)\n",
    "\n",
    "# Initialize the network parameters\n",
    "def init_params(key, input_size, hidden_size, output_size):\n",
    "    k1, k2, k3, k4 = random.split(key, 4)\n",
    "    print(k1,k2)\n",
    "    W1 = random.normal(k1, (input_size, hidden_size)) * 0.01\n",
    "    b1 = jnp.zeros(hidden_size)\n",
    "    W2 = random.normal(k2, (hidden_size, output_size)) * 0.01\n",
    "    b2 = jnp.zeros(output_size)\n",
    "    return [W1, b1, W2, b2]\n",
    "\n",
    "# Generate synthetic data\n",
    "key = random.PRNGKey(0)\n",
    "x = random.normal(key, (100, 2))  # 100 samples, 2 input features\n",
    "true_params = [jnp.array([[2.0, -1.0], [1.0, 3.0]]),  # W1\n",
    "               jnp.array([0.5, -0.5]),               # b1\n",
    "               jnp.array([[1.5], [-2.0]]),           # W2\n",
    "               jnp.array([0.1])]                     # b2\n",
    "y = two_layer_nn(true_params, x) + 0.1 * random.normal(key, (100, 1))  # Add noise\n",
    "\n",
    "# Training the model\n",
    "learning_rate = 0.01\n",
    "hidden_size = 10\n",
    "params = init_params(key, input_size=2, hidden_size=hidden_size, output_size=1)\n",
    "\n",
    "@jax.jit\n",
    "def train_step(params, x, y):\n",
    "    grads = grad(mse_loss)(params, x, y)\n",
    "    return [p - learning_rate * g for p, g in zip(params, grads)]\n",
    "\n",
    "# Train the network\n",
    "num_epochs = 1000\n",
    "losses = []\n",
    "for epoch in range(num_epochs):\n",
    "    params = train_step(params, x, y)\n",
    "    loss = mse_loss(params, x, y)\n",
    "    losses.append(loss)\n",
    "    if epoch % 100 == 0:\n",
    "        print(f\"Epoch {epoch}, Loss: {loss}\")\n",
    "\n",
    "# Plot the loss curve\n",
    "plt.plot(losses)\n",
    "plt.xlabel(\"Epoch\")\n",
    "plt.ylabel(\"Loss\")\n",
    "plt.title(\"Training Loss Curve\")\n",
    "plt.show()\n",
    "\n",
    "# Test the network on new data\n",
    "test_x = jnp.array([[0.5, -1.0]])\n",
    "preds = two_layer_nn(params, test_x)\n",
    "print(\"Predictions:\", preds)\n",
    "print(test_x.shape)\n"
   ]
  },
  {
   "cell_type": "code",
   "execution_count": null,
   "metadata": {},
   "outputs": [],
   "source": [
    "import numpy as np\n",
    "import jax \n",
    "import jax.numpy as jnp\n",
    "import matplotlib.pyplot as plt\n",
    "\n",
    " "
   ]
  },
  {
   "cell_type": "code",
   "execution_count": 24,
   "metadata": {},
   "outputs": [],
   "source": [
    "# Step 1. Create a model (Feedforward Neural Network)\n",
    "# Three-layer fully connected neural network with 100 nodes in each layer\n",
    "n_nodes = 100\n",
    "n_out = 1\n",
    "def three_layer_nn(params, x):\n",
    "    w1, b1, w2, b2, w3, b3 = params\n",
    "    h1 = jax.nn.tanh(jnp.dot(x, w1) + b1)\n",
    "    h2 = jax.nn.tanh(jnp.dot(h1, w2) + b2)\n",
    "    output = jnp.dot(h2, w3) + b3\n",
    "    return output\n",
    "    \n",
    "\n",
    "\n",
    "    \n",
    "    "
   ]
  },
  {
   "cell_type": "code",
   "execution_count": null,
   "metadata": {},
   "outputs": [],
   "source": []
  }
 ],
 "metadata": {
  "kernelspec": {
   "display_name": "myenv",
   "language": "python",
   "name": "python3"
  },
  "language_info": {
   "codemirror_mode": {
    "name": "ipython",
    "version": 3
   },
   "file_extension": ".py",
   "mimetype": "text/x-python",
   "name": "python",
   "nbconvert_exporter": "python",
   "pygments_lexer": "ipython3",
   "version": "3.9.21"
  }
 },
 "nbformat": 4,
 "nbformat_minor": 2
}
