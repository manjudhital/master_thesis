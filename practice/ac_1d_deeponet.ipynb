version https://git-lfs.github.com/spec/v1
oid sha256:be661f18c30b9ca7584f2f7907cce4047e62adb069afadaed0036a57bbe96249
size 210911
