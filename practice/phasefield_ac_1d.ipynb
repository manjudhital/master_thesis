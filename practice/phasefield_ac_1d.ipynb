version https://git-lfs.github.com/spec/v1
oid sha256:249a2c90d9377a830d0da88414548eb28773f1e2aad5123ecec0c2a4466d076f
size 627
