{
 "cells": [
  {
   "cell_type": "markdown",
   "metadata": {},
   "source": [
    "## defining the libaries"
   ]
  },
  {
   "cell_type": "code",
   "execution_count": 233,
   "metadata": {},
   "outputs": [],
   "source": [
    "import jax \n",
    "import jax.numpy as jnp\n",
    "from jax.numpy.fft import fft, ifft\n",
    "from jax import grad,jit\n",
    "import optax\n"
   ]
  },
  {
   "cell_type": "code",
   "execution_count": null,
   "metadata": {},
   "outputs": [],
   "source": []
  },
  {
   "cell_type": "markdown",
   "metadata": {},
   "source": [
    "## define the Allen-cahn parameters"
   ]
  },
  {
   "cell_type": "code",
   "execution_count": 234,
   "metadata": {},
   "outputs": [],
   "source": [
    "L = 1 #Length \n",
    "Nx = 128 #number of grid point\n",
    "dx = L/128 # spacing the griding points \n",
    "epsilon = 0.01\n",
    "dt = 0.01 # time step or time increment"
   ]
  },
  {
   "cell_type": "markdown",
   "metadata": {},
   "source": [
    "## define spatial grid"
   ]
  },
  {
   "cell_type": "code",
   "execution_count": 235,
   "metadata": {},
   "outputs": [
    {
     "data": {
      "image/png": "[encoded data removed]",
      "text/plain": [
       "<Figure size 640x480 with 1 Axes>"
      ]
     },
     "metadata": {},
     "output_type": "display_data"
    }
   ],
   "source": [
    "x = jnp.linspace(0, L, Nx, endpoint = False)\n",
    "import matplotlib.pyplot as plt\n",
    "\n",
    "plt.plot(x)\n",
    "plt.title(\"Spatial Grid\")\n",
    "plt.xlabel(\"Grid Point Index\")\n",
    "plt.ylabel(\"x\")\n",
    "plt.show()\n"
   ]
  },
  {
   "cell_type": "markdown",
   "metadata": {},
   "source": [
    " ## Initialize the phase field"
   ]
  },
  {
   "cell_type": "code",
   "execution_count": 236,
   "metadata": {},
   "outputs": [],
   "source": [
    "def initialize_phase_field():\n",
    "    return jnp.sin(2 * jnp.pi * x) + 0.01 * jax.random.normal(jax.random.PRNGKey(0), (Nx,))"
   ]
  },
  {
   "cell_type": "markdown",
   "metadata": {},
   "source": [
    "### Fourier Neural Opertor Component"
   ]
  },
  {
   "cell_type": "code",
   "execution_count": 237,
   "metadata": {},
   "outputs": [],
   "source": [
    "class FourierLayer:\n",
    "    def __init__ (self, modes):\n",
    "        self.modes = modes\n",
    "        self.weight = jax.random.normal(jax.random.PRNGKey(0), (modes, 2))\n",
    "\n",
    "\n",
    "    def __call__ (self, u):\n",
    "        # forward fourier transform\n",
    "        u_hat = fft(u)\n",
    "        # Apply learnable weight in Fourier space\n",
    "        u_hat = u_hat.at[:self.modes].set(u_hat[:self.modes] * self.weights[:, 0] + 1j * self.weights[:, 1])\n",
    "        # Inverse Fourier transform\n",
    "        return jnp.real(ifft(u_hat))\n",
    "    \n",
    "class FNO:\n",
    "    def __init__ (self, modes, width):\n",
    "        self.fourier_layer = FourierLayer(modes)\n",
    "        self.linear = jax.random.normal(jax.random.PRNGKey(1), (Nx, width))\n",
    "\n",
    "    def __call__(self, u):\n",
    "        u = self.fourier_layer(u)\n",
    "        u = jnp.dot(u, self.linear)\n",
    "        return jnp.tanh(u)\n",
    "\n",
    "\n",
    "    \n",
    "\n",
    "\n"
   ]
  },
  {
   "cell_type": "markdown",
   "metadata": {},
   "source": [
    "## Loss function"
   ]
  },
  {
   "cell_type": "code",
   "execution_count": 238,
   "metadata": {},
   "outputs": [],
   "source": [
    "def supervised_loss(u_pred, u_true):\n",
    "    return jnp.mean((u_pred - u_true) ** 2)\n",
    "\n",
    "def physics_loss(u, u_t, epsilon):\n",
    "    u_xx = jnp.gradient(jnp.gradient(u, dx), dx)\n",
    "    residual = u_t - epsilon**2 * u_xx + u**3 -u\n",
    "    return jnp.mean(residual**2)"
   ]
  },
  {
   "cell_type": "markdown",
   "metadata": {},
   "source": [
    "## Training"
   ]
  },
  {
   "cell_type": "code",
   "execution_count": 239,
   "metadata": {},
   "outputs": [],
   "source": [
    "\n",
    "\n",
    "def train_step(params, optimizer, opt_state, u_init, u_true, epsilon, dt):\n",
    "    def loss_fn(params):\n",
    "        u_pred = FNO(params['modes'], params['width'])(u_init)\n",
    "        u_t = (u_pred - u_init) / dt\n",
    "        loss = supervised_loss(u_pred, u_true) + 1e-3 * physics_loss(u_pred, u_t, epsilon)\n",
    "        return jnp.float32(loss)\n",
    "    \n",
    "    \n",
    "    # params = {'modes': 16.0, 'width': 64.0 }\n",
    "    grads = grad(loss_fn)({'modes': 16, 'width': 64})\n",
    "    updates, opt_state = optimizer.update(grads, opt_state)\n",
    "    params = optax.apply_updates(params, updates)\n",
    "    return params, opt_state\n"
   ]
  },
  {
   "cell_type": "markdown",
   "metadata": {},
   "source": [
    "## Hyperparameters"
   ]
  },
  {
   "cell_type": "code",
   "execution_count": 240,
   "metadata": {},
   "outputs": [],
   "source": [
    "params = {'modes': 16, 'width': 64 }\n",
    "optimizer = optax.adam(learning_rate=1e-3)\n",
    "opt_state = optimizer.init(params)"
   ]
  },
  {
   "cell_type": "markdown",
   "metadata": {},
   "source": [
    "## Simulate data"
   ]
  },
  {
   "cell_type": "code",
   "execution_count": 241,
   "metadata": {},
   "outputs": [],
   "source": [
    "# fno = FNO(params['modes'], params['width'])\n",
    "\n",
    "u_init = initialize_phase_field()\n",
    "u_true = u_init # repalce with ground truth from solver\n",
    "u_init = jnp.array(u_init, dtype=jnp.float32)\n",
    "u_true = jnp.array(u_true, dtype=jnp.float32)\n",
    "\n",
    "dt = 0.01 # time step\n",
    "# print(u_init)\n",
    "# print(u_true)\n",
    "# print(dt)"
   ]
  },
  {
   "cell_type": "markdown",
   "metadata": {},
   "source": [
    "## Training Loop"
   ]
  },
  {
   "cell_type": "code",
   "execution_count": 242,
   "metadata": {},
   "outputs": [
    {
     "ename": "TypeError",
     "evalue": "grad requires real- or complex-valued inputs (input dtype that is a sub-dtype of np.inexact), but got int32. If you want to use Boolean- or integer-valued inputs, use vjp or set allow_int to True.",
     "output_type": "error",
     "traceback": [
      "\u001b[1;31m---------------------------------------------------------------------------\u001b[0m",
      "\u001b[1;31mTypeError\u001b[0m                                 Traceback (most recent call last)",
      "Cell \u001b[1;32mIn[242], line 2\u001b[0m\n\u001b[0;32m      1\u001b[0m \u001b[38;5;28;01mfor\u001b[39;00m ep \u001b[38;5;129;01min\u001b[39;00m \u001b[38;5;28mrange\u001b[39m(\u001b[38;5;241m1000\u001b[39m):\n\u001b[1;32m----> 2\u001b[0m     params, opt_state \u001b[38;5;241m=\u001b[39m \u001b[43mtrain_step\u001b[49m\u001b[43m(\u001b[49m\u001b[43mparams\u001b[49m\u001b[43m,\u001b[49m\u001b[43m \u001b[49m\u001b[43moptimizer\u001b[49m\u001b[43m,\u001b[49m\u001b[43m \u001b[49m\u001b[43mopt_state\u001b[49m\u001b[43m,\u001b[49m\u001b[43m \u001b[49m\u001b[43mu_init\u001b[49m\u001b[43m,\u001b[49m\u001b[43m \u001b[49m\u001b[43mu_true\u001b[49m\u001b[43m,\u001b[49m\u001b[43m \u001b[49m\u001b[43mepsilon\u001b[49m\u001b[43m,\u001b[49m\u001b[43m \u001b[49m\u001b[43mdt\u001b[49m\u001b[43m)\u001b[49m\n\u001b[0;32m      3\u001b[0m     \u001b[38;5;28;01mif\u001b[39;00m ep \u001b[38;5;241m%\u001b[39m \u001b[38;5;241m100\u001b[39m \u001b[38;5;241m==\u001b[39m \u001b[38;5;241m0\u001b[39m:\n\u001b[0;32m      4\u001b[0m         \u001b[38;5;28mprint\u001b[39m(\u001b[38;5;124mf\u001b[39m\u001b[38;5;124m\"\u001b[39m\u001b[38;5;124mEpoch \u001b[39m\u001b[38;5;132;01m{\u001b[39;00mep\u001b[38;5;132;01m}\u001b[39;00m\u001b[38;5;124m: Loss computed.\u001b[39m\u001b[38;5;124m\"\u001b[39m)\n",
      "Cell \u001b[1;32mIn[239], line 10\u001b[0m, in \u001b[0;36mtrain_step\u001b[1;34m(params, optimizer, opt_state, u_init, u_true, epsilon, dt)\u001b[0m\n\u001b[0;32m      6\u001b[0m     \u001b[38;5;28;01mreturn\u001b[39;00m jnp\u001b[38;5;241m.\u001b[39mfloat32(loss)\n\u001b[0;32m      9\u001b[0m \u001b[38;5;66;03m# params = {'modes': 16.0, 'width': 64.0 }\u001b[39;00m\n\u001b[1;32m---> 10\u001b[0m grads \u001b[38;5;241m=\u001b[39m \u001b[43mgrad\u001b[49m\u001b[43m(\u001b[49m\u001b[43mloss_fn\u001b[49m\u001b[43m)\u001b[49m\u001b[43m(\u001b[49m\u001b[43m{\u001b[49m\u001b[38;5;124;43m'\u001b[39;49m\u001b[38;5;124;43mmodes\u001b[39;49m\u001b[38;5;124;43m'\u001b[39;49m\u001b[43m:\u001b[49m\u001b[43m \u001b[49m\u001b[38;5;241;43m16\u001b[39;49m\u001b[43m,\u001b[49m\u001b[43m \u001b[49m\u001b[38;5;124;43m'\u001b[39;49m\u001b[38;5;124;43mwidth\u001b[39;49m\u001b[38;5;124;43m'\u001b[39;49m\u001b[43m:\u001b[49m\u001b[43m \u001b[49m\u001b[38;5;241;43m64.0\u001b[39;49m\u001b[43m}\u001b[49m\u001b[43m)\u001b[49m\n\u001b[0;32m     11\u001b[0m updates, opt_state \u001b[38;5;241m=\u001b[39m optimizer\u001b[38;5;241m.\u001b[39mupdate(grads, opt_state)\n\u001b[0;32m     12\u001b[0m params \u001b[38;5;241m=\u001b[39m optax\u001b[38;5;241m.\u001b[39mapply_updates(params, updates)\n",
      "    \u001b[1;31m[... skipping hidden 4 frame]\u001b[0m\n",
      "File \u001b[1;32mc:\\Users\\Manju\\Documents\\python\\envs\\myenv\\lib\\site-packages\\jax\\_src\\api.py:730\u001b[0m, in \u001b[0;36m_check_input_dtype_revderiv\u001b[1;34m(name, holomorphic, allow_int, x)\u001b[0m\n\u001b[0;32m    726\u001b[0m \u001b[38;5;28;01mif\u001b[39;00m (dtypes\u001b[38;5;241m.\u001b[39missubdtype(aval\u001b[38;5;241m.\u001b[39mdtype, dtypes\u001b[38;5;241m.\u001b[39mextended) \u001b[38;5;129;01mor\u001b[39;00m\n\u001b[0;32m    727\u001b[0m     dtypes\u001b[38;5;241m.\u001b[39missubdtype(aval\u001b[38;5;241m.\u001b[39mdtype, np\u001b[38;5;241m.\u001b[39minteger) \u001b[38;5;129;01mor\u001b[39;00m\n\u001b[0;32m    728\u001b[0m     dtypes\u001b[38;5;241m.\u001b[39missubdtype(aval\u001b[38;5;241m.\u001b[39mdtype, np\u001b[38;5;241m.\u001b[39mbool_)):\n\u001b[0;32m    729\u001b[0m   \u001b[38;5;28;01mif\u001b[39;00m \u001b[38;5;129;01mnot\u001b[39;00m allow_int:\n\u001b[1;32m--> 730\u001b[0m     \u001b[38;5;28;01mraise\u001b[39;00m \u001b[38;5;167;01mTypeError\u001b[39;00m(\u001b[38;5;124mf\u001b[39m\u001b[38;5;124m\"\u001b[39m\u001b[38;5;132;01m{\u001b[39;00mname\u001b[38;5;132;01m}\u001b[39;00m\u001b[38;5;124m requires real- or complex-valued inputs (input dtype \u001b[39m\u001b[38;5;124m\"\u001b[39m\n\u001b[0;32m    731\u001b[0m                     \u001b[38;5;124mf\u001b[39m\u001b[38;5;124m\"\u001b[39m\u001b[38;5;124mthat is a sub-dtype of np.inexact), but got \u001b[39m\u001b[38;5;132;01m{\u001b[39;00maval\u001b[38;5;241m.\u001b[39mdtype\u001b[38;5;241m.\u001b[39mname\u001b[38;5;132;01m}\u001b[39;00m\u001b[38;5;124m. \u001b[39m\u001b[38;5;124m\"\u001b[39m\n\u001b[0;32m    732\u001b[0m                     \u001b[38;5;124m\"\u001b[39m\u001b[38;5;124mIf you want to use Boolean- or integer-valued inputs, use vjp \u001b[39m\u001b[38;5;124m\"\u001b[39m\n\u001b[0;32m    733\u001b[0m                     \u001b[38;5;124m\"\u001b[39m\u001b[38;5;124mor set allow_int to True.\u001b[39m\u001b[38;5;124m\"\u001b[39m)\n\u001b[0;32m    734\u001b[0m \u001b[38;5;28;01melif\u001b[39;00m \u001b[38;5;129;01mnot\u001b[39;00m dtypes\u001b[38;5;241m.\u001b[39missubdtype(aval\u001b[38;5;241m.\u001b[39mdtype, np\u001b[38;5;241m.\u001b[39minexact):\n\u001b[0;32m    735\u001b[0m   \u001b[38;5;28;01mraise\u001b[39;00m \u001b[38;5;167;01mTypeError\u001b[39;00m(\u001b[38;5;124mf\u001b[39m\u001b[38;5;124m\"\u001b[39m\u001b[38;5;132;01m{\u001b[39;00mname\u001b[38;5;132;01m}\u001b[39;00m\u001b[38;5;124m requires numerical-valued inputs (input dtype that is a \u001b[39m\u001b[38;5;124m\"\u001b[39m\n\u001b[0;32m    736\u001b[0m                   \u001b[38;5;124mf\u001b[39m\u001b[38;5;124m\"\u001b[39m\u001b[38;5;124msub-dtype of np.bool_ or np.number), but got \u001b[39m\u001b[38;5;132;01m{\u001b[39;00maval\u001b[38;5;241m.\u001b[39mdtype\u001b[38;5;241m.\u001b[39mname\u001b[38;5;132;01m}\u001b[39;00m\u001b[38;5;124m.\u001b[39m\u001b[38;5;124m\"\u001b[39m)\n",
      "\u001b[1;31mTypeError\u001b[0m: grad requires real- or complex-valued inputs (input dtype that is a sub-dtype of np.inexact), but got int32. If you want to use Boolean- or integer-valued inputs, use vjp or set allow_int to True."
     ]
    }
   ],
   "source": [
    "\n",
    "for ep in range(1000):\n",
    "    params, opt_state = train_step(params, optimizer, opt_state, u_init, u_true, epsilon, dt)\n",
    "    if ep % 100 == 0:\n",
    "        print(f\"Epoch {ep}: Loss computed.\")\n"
   ]
  },
  {
   "cell_type": "code",
   "execution_count": 245,
   "metadata": {},
   "outputs": [
    {
     "ename": "TypeError",
     "evalue": "Cannot interpret value of type <class 'function'> as an abstract array; it does not have a dtype attribute",
     "output_type": "error",
     "traceback": [
      "\u001b[1;31m---------------------------------------------------------------------------\u001b[0m",
      "\u001b[1;31mTypeError\u001b[0m                                 Traceback (most recent call last)",
      "Cell \u001b[1;32mIn[245], line 83\u001b[0m\n\u001b[0;32m     81\u001b[0m \u001b[38;5;66;03m# Training loop\u001b[39;00m\n\u001b[0;32m     82\u001b[0m \u001b[38;5;28;01mfor\u001b[39;00m epoch \u001b[38;5;129;01min\u001b[39;00m \u001b[38;5;28mrange\u001b[39m(\u001b[38;5;241m1000\u001b[39m):\n\u001b[1;32m---> 83\u001b[0m     params, opt_state \u001b[38;5;241m=\u001b[39m \u001b[43mtrain_step\u001b[49m\u001b[43m(\u001b[49m\u001b[43mparams\u001b[49m\u001b[43m,\u001b[49m\u001b[43m \u001b[49m\u001b[43moptimizer\u001b[49m\u001b[43m,\u001b[49m\u001b[43m \u001b[49m\u001b[43mopt_state\u001b[49m\u001b[43m,\u001b[49m\u001b[43m \u001b[49m\u001b[43mu_init\u001b[49m\u001b[43m,\u001b[49m\u001b[43m \u001b[49m\u001b[43mu_true\u001b[49m\u001b[43m,\u001b[49m\u001b[43m \u001b[49m\u001b[43mepsilon\u001b[49m\u001b[43m,\u001b[49m\u001b[43m \u001b[49m\u001b[43mdt\u001b[49m\u001b[43m)\u001b[49m\n\u001b[0;32m     84\u001b[0m     \u001b[38;5;28;01mif\u001b[39;00m epoch \u001b[38;5;241m%\u001b[39m \u001b[38;5;241m100\u001b[39m \u001b[38;5;241m==\u001b[39m \u001b[38;5;241m0\u001b[39m:\n\u001b[0;32m     85\u001b[0m         \u001b[38;5;28mprint\u001b[39m(\u001b[38;5;124mf\u001b[39m\u001b[38;5;124m\"\u001b[39m\u001b[38;5;124mEpoch \u001b[39m\u001b[38;5;132;01m{\u001b[39;00mepoch\u001b[38;5;132;01m}\u001b[39;00m\u001b[38;5;124m: Loss computed.\u001b[39m\u001b[38;5;124m\"\u001b[39m)\n",
      "    \u001b[1;31m[... skipping hidden 5 frame]\u001b[0m\n",
      "File \u001b[1;32mc:\\Users\\Manju\\Documents\\python\\envs\\myenv\\lib\\site-packages\\jax\\_src\\api_util.py:577\u001b[0m, in \u001b[0;36m_shaped_abstractify_slow\u001b[1;34m(x)\u001b[0m\n\u001b[0;32m    575\u001b[0m   dtype \u001b[38;5;241m=\u001b[39m dtypes\u001b[38;5;241m.\u001b[39mcanonicalize_dtype(x\u001b[38;5;241m.\u001b[39mdtype, allow_extended_dtype\u001b[38;5;241m=\u001b[39m\u001b[38;5;28;01mTrue\u001b[39;00m)\n\u001b[0;32m    576\u001b[0m \u001b[38;5;28;01melse\u001b[39;00m:\n\u001b[1;32m--> 577\u001b[0m   \u001b[38;5;28;01mraise\u001b[39;00m \u001b[38;5;167;01mTypeError\u001b[39;00m(\n\u001b[0;32m    578\u001b[0m       \u001b[38;5;124mf\u001b[39m\u001b[38;5;124m\"\u001b[39m\u001b[38;5;124mCannot interpret value of type \u001b[39m\u001b[38;5;132;01m{\u001b[39;00m\u001b[38;5;28mtype\u001b[39m(x)\u001b[38;5;132;01m}\u001b[39;00m\u001b[38;5;124m as an abstract array; it \u001b[39m\u001b[38;5;124m\"\u001b[39m\n\u001b[0;32m    579\u001b[0m       \u001b[38;5;124m\"\u001b[39m\u001b[38;5;124mdoes not have a dtype attribute\u001b[39m\u001b[38;5;124m\"\u001b[39m)\n\u001b[0;32m    580\u001b[0m \u001b[38;5;28;01mreturn\u001b[39;00m core\u001b[38;5;241m.\u001b[39mShapedArray(np\u001b[38;5;241m.\u001b[39mshape(x), dtype, weak_type\u001b[38;5;241m=\u001b[39mweak_type,\n\u001b[0;32m    581\u001b[0m                         named_shape\u001b[38;5;241m=\u001b[39mnamed_shape)\n",
      "\u001b[1;31mTypeError\u001b[0m: Cannot interpret value of type <class 'function'> as an abstract array; it does not have a dtype attribute"
     ]
    }
   ],
   "source": [
    "import jax\n",
    "import jax.numpy as jnp\n",
    "from jax.numpy.fft import fft, ifft\n",
    "from jax import grad, jit, vmap\n",
    "import optax\n",
    "\n",
    "# Define the Allen-Cahn parameters\n",
    "L = 1.0  # Domain length\n",
    "Nx = 128  # Number of grid points\n",
    "dx = L / Nx\n",
    "epsilon = 0.01\n",
    "\n",
    "# Define spatial grid\n",
    "x = jnp.linspace(0, L, Nx, endpoint=False)\n",
    "\n",
    "# Initialize the phase field\n",
    "def initialize_phase_field():\n",
    "    return jnp.sin(2 * jnp.pi * x) + 0.1 * jax.random.normal(jax.random.PRNGKey(0), (Nx,))\n",
    "\n",
    "# Fourier Neural Operator Components\n",
    "class FourierLayer:\n",
    "    def __init__(self, modes):\n",
    "        self.modes = modes\n",
    "        # Use JAX to generate weights\n",
    "        self.weights = jax.random.normal(jax.random.PRNGKey(0), (modes, 2), dtype=jnp.float32)\n",
    "\n",
    "    def __call__(self, u):\n",
    "        # Forward Fourier transform\n",
    "        u_hat = fft(u)\n",
    "        # Apply learnable weights in Fourier space\n",
    "        u_hat = u_hat.at[:self.modes].set(u_hat[:self.modes] * self.weights[:, 0] + 1j * self.weights[:, 1])\n",
    "        # Inverse Fourier transform\n",
    "        return jnp.real(ifft(u_hat))\n",
    "\n",
    "class FNO:\n",
    "    def __init__(self, modes, width):\n",
    "        self.fourier_layer = FourierLayer(modes)\n",
    "        # Initialize linear weights using JAX\n",
    "        self.linear = jax.random.normal(jax.random.PRNGKey(1), (Nx, width), dtype=jnp.float32)\n",
    "\n",
    "    def __call__(self, u):\n",
    "        u = self.fourier_layer(u)\n",
    "        u = jnp.dot(u, self.linear)\n",
    "        return jnp.tanh(u)\n",
    "\n",
    "# Loss functions\n",
    "def supervised_loss(u_pred, u_true):\n",
    "    return jnp.mean((u_pred - u_true) ** 2)\n",
    "\n",
    "def physics_loss(u, u_t, epsilon):\n",
    "    u_xx = jnp.gradient(jnp.gradient(u, dx), dx)\n",
    "    residual = u_t - epsilon**2 * u_xx + u**3 - u\n",
    "    return jnp.mean(residual**2)\n",
    "\n",
    "# Training\n",
    "@jit\n",
    "def train_step(params, optimizer, opt_state, u_init, u_true, epsilon, dt):\n",
    "    def loss_fn(params):\n",
    "        # Ensure the modes and width are taken as jnp arrays when used in FNO\n",
    "        fno = FNO(params['modes'], params['width'])\n",
    "        u_pred = fno(u_init)\n",
    "        u_t = (u_pred - u_init) / dt\n",
    "        loss = supervised_loss(u_pred, u_true) + 1e-3 * physics_loss(u_pred, u_t, epsilon)\n",
    "        return loss\n",
    "\n",
    "    grads = grad(loss_fn)(params)\n",
    "    updates, opt_state = optimizer.update(grads, opt_state)\n",
    "    params = optax.apply_updates(params, updates)\n",
    "    return params, opt_state\n",
    "\n",
    "# Hyperparameters\n",
    "params = {'modes': jnp.array(16, dtype=jnp.int32), 'width': jnp.array(64, dtype=jnp.int32)}\n",
    "optimizer = optax.adam(learning_rate=1e-3)\n",
    "opt_state = optimizer.init(params)\n",
    "\n",
    "# Simulate data\n",
    "u_init = initialize_phase_field()\n",
    "u_true = u_init  # Replace with ground truth from a solver\n",
    "dt = 0.01  # Time step\n",
    "\n",
    "# Training loop\n",
    "for epoch in range(1000):\n",
    "    params, opt_state = train_step(params, optimizer, opt_state, u_init, u_true, epsilon, dt)\n",
    "    if epoch % 100 == 0:\n",
    "        print(f\"Epoch {epoch}: Loss computed.\")\n"
   ]
  },
  {
   "cell_type": "code",
   "execution_count": null,
   "metadata": {},
   "outputs": [],
   "source": []
  }
 ],
 "metadata": {
  "kernelspec": {
   "display_name": "myenv",
   "language": "python",
   "name": "python3"
  },
  "language_info": {
   "codemirror_mode": {
    "name": "ipython",
    "version": 3
   },
   "file_extension": ".py",
   "mimetype": "text/x-python",
   "name": "python",
   "nbconvert_exporter": "python",
   "pygments_lexer": "ipython3",
   "version": "3.9.21"
  }
 },
 "nbformat": 4,
 "nbformat_minor": 2
}
