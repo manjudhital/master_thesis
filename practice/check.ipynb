{
 "cells": [
  {
   "cell_type": "markdown",
   "metadata": {},
   "source": [
    "## Allen cahn PINN FOR 2d"
   ]
  },
  {
   "cell_type": "code",
   "execution_count": 59,
   "metadata": {},
   "outputs": [],
   "source": [
    "import jax.numpy as jnp\n",
    "from jax import grad, jit, random\n",
    "import matplotlib.pyplot as plt\n"
   ]
  },
  {
   "cell_type": "code",
   "execution_count": 60,
   "metadata": {},
   "outputs": [],
   "source": [
    "# Define the neural network\n",
    "class SimpleNN:\n",
    "    def __init__(self, layers, key):\n",
    "        self.layers = layers\n",
    "        self.params = self.initialize_params(layers, key)\n",
    "\n",
    "    def initialize_params(self, layers, key):\n",
    "        keys = random.split(key, len(layers) - 1)\n",
    "        params = []\n",
    "        for i, k in enumerate(keys):\n",
    "            w = random.normal(k, (layers[i], layers[i + 1])) * jnp.sqrt(2.0 / layers[i])\n",
    "            b = jnp.zeros(layers[i + 1])\n",
    "            params.append((w, b))\n",
    "        return params\n",
    "\n",
    "    def forward(self, params, x):\n",
    "        for i, (w, b) in enumerate(params[:-1]):\n",
    "            x = jnp.tanh(jnp.dot(x, w) + b)\n",
    "        w, b = params[-1]\n",
    "        out = jnp.dot(x, w) + b\n",
    "        return out[0]"
   ]
  },
  {
   "cell_type": "code",
   "execution_count": 61,
   "metadata": {},
   "outputs": [],
   "source": [
    "@jit\n",
    "def allen_cahn_pde(x, y, grad_y, hessian_y):\n",
    "    dy_t = grad_y[2]  # Partial derivative with respect to time\n",
    "    dy_xx = hessian_y[0, 0]  # Second partial derivative with respect to x\n",
    "    dy_yy = hessian_y[1, 1]  # Second partial derivative with respect to y\n",
    "    return dy_t - 0.001 * (dy_xx + dy_yy) - 5 * (x - x**3)\n",
    "\n",
    "# Define the physics loss\n",
    "def physics_loss(params, model, x,N):\n",
    "    y = model.forward(params, x)\n",
    "   \n",
    "    y_hat = jnp.fft.fft(y)\n",
    "  \n",
    "    k = jnp.fft.fftfreq(N, d = 1) * 2 * jnp.pi\n",
    "    grad_y_hat = 1j * k * y_hat\n",
    "    grad_yy_hat = -k ** 2 * y_hat\n",
    "    non_linear_term = 5 * (y -y**3)\n",
    "    pde_residual_hat = grad_y_hat - 0.001 * grad_yy_hat - non_linear_term\n",
    "    pde_residual = jnp.fft.ifft(pde_residual_hat).real\n",
    "    # # print(f\"y shape: {y.shape}\")\n",
    "    # grad_y = grad(lambda x: model.forward(params, x))(x)\n",
    "    # hessian_y = jnp.array([\n",
    "    #     [grad(lambda x: grad(lambda x: model.forward(params, x))(x)[i])(x) for i in range(x.shape[0])]\n",
    "    #     for _ in range(x.shape[0])\n",
    "    # ])\n",
    "    # pde_residual = allen_cahn_pde(x, y, grad_y, hessian_y)\n",
    "    # # print(f\"pde_residual shape: {pde_residual.shape}\")\n",
    "    return jnp.mean(pde_residual**2)"
   ]
  },
  {
   "cell_type": "code",
   "execution_count": 62,
   "metadata": {},
   "outputs": [],
   "source": [
    "\n",
    "# Training loop\n",
    "def train(model, params, key, losses_record, epoches_record, epochs=50, lr=1e-3 , N=128):\n",
    "    opt_state = params\n",
    "    for epoch in range(epochs):\n",
    "        x = jnp.linspace(0, 1, N)\n",
    "        # print(x.shape)\n",
    "        loss = physics_loss(opt_state, model,x,N )  # (x, y, t)\n",
    "        losses_record.append(loss)\n",
    "        epoches_record.append(epoch)\n",
    "        grads = grad(lambda params: physics_loss(params, model, x, N))(opt_state)\n",
    "        opt_state = [(w - lr * gw, b - lr * gb) for (w, b), (gw, gb) in zip(opt_state, grads)]\n",
    "        if epoch % 5 == 0:\n",
    "            print(f\"Epoch {epoch}, Loss: {loss}\")\n",
    "    return opt_state"
   ]
  },
  {
   "cell_type": "code",
   "execution_count": 63,
   "metadata": {},
   "outputs": [
    {
     "ename": "ValueError",
     "evalue": "axis -1 is out of bounds for array of dimension 0",
     "output_type": "error",
     "traceback": [
      "\u001b[1;31m---------------------------------------------------------------------------\u001b[0m",
      "\u001b[1;31mValueError\u001b[0m                                Traceback (most recent call last)",
      "Cell \u001b[1;32mIn[63], line 12\u001b[0m\n\u001b[0;32m      9\u001b[0m     \u001b[38;5;66;03m# print_model_architecture(model)\u001b[39;00m\n\u001b[0;32m     11\u001b[0m     params \u001b[38;5;241m=\u001b[39m model\u001b[38;5;241m.\u001b[39mparams\n\u001b[1;32m---> 12\u001b[0m     trained_params \u001b[38;5;241m=\u001b[39m \u001b[43mtrain\u001b[49m\u001b[43m(\u001b[49m\u001b[43mmodel\u001b[49m\u001b[43m,\u001b[49m\u001b[43m \u001b[49m\u001b[43mparams\u001b[49m\u001b[43m,\u001b[49m\u001b[43m \u001b[49m\u001b[43mkey\u001b[49m\u001b[43m,\u001b[49m\u001b[43m \u001b[49m\u001b[43mlosses_record\u001b[49m\u001b[43m,\u001b[49m\u001b[43m \u001b[49m\u001b[43mepoches_record\u001b[49m\u001b[43m)\u001b[49m\n\u001b[0;32m     15\u001b[0m plt\u001b[38;5;241m.\u001b[39mplot(epoches_record, losses_record)\n\u001b[0;32m     16\u001b[0m plt\u001b[38;5;241m.\u001b[39mxlabel(\u001b[38;5;124m\"\u001b[39m\u001b[38;5;124mEpoch\u001b[39m\u001b[38;5;124m\"\u001b[39m)\n",
      "Cell \u001b[1;32mIn[62], line 7\u001b[0m, in \u001b[0;36mtrain\u001b[1;34m(model, params, key, losses_record, epoches_record, epochs, lr, N)\u001b[0m\n\u001b[0;32m      5\u001b[0m x \u001b[38;5;241m=\u001b[39m jnp\u001b[38;5;241m.\u001b[39mlinspace(\u001b[38;5;241m0\u001b[39m, \u001b[38;5;241m1\u001b[39m, N)\n\u001b[0;32m      6\u001b[0m \u001b[38;5;66;03m# print(x.shape)\u001b[39;00m\n\u001b[1;32m----> 7\u001b[0m loss \u001b[38;5;241m=\u001b[39m \u001b[43mphysics_loss\u001b[49m\u001b[43m(\u001b[49m\u001b[43mopt_state\u001b[49m\u001b[43m,\u001b[49m\u001b[43m \u001b[49m\u001b[43mmodel\u001b[49m\u001b[43m,\u001b[49m\u001b[43mx\u001b[49m\u001b[43m,\u001b[49m\u001b[43mN\u001b[49m\u001b[43m \u001b[49m\u001b[43m)\u001b[49m  \u001b[38;5;66;03m# (x, y, t)\u001b[39;00m\n\u001b[0;32m      8\u001b[0m losses_record\u001b[38;5;241m.\u001b[39mappend(loss)\n\u001b[0;32m      9\u001b[0m epoches_record\u001b[38;5;241m.\u001b[39mappend(epoch)\n",
      "Cell \u001b[1;32mIn[61], line 12\u001b[0m, in \u001b[0;36mphysics_loss\u001b[1;34m(params, model, x, N)\u001b[0m\n\u001b[0;32m      9\u001b[0m \u001b[38;5;28;01mdef\u001b[39;00m \u001b[38;5;21mphysics_loss\u001b[39m(params, model, x,N):\n\u001b[0;32m     10\u001b[0m     y \u001b[38;5;241m=\u001b[39m model\u001b[38;5;241m.\u001b[39mforward(params, x)\n\u001b[1;32m---> 12\u001b[0m     y_hat \u001b[38;5;241m=\u001b[39m \u001b[43mjnp\u001b[49m\u001b[38;5;241;43m.\u001b[39;49m\u001b[43mfft\u001b[49m\u001b[38;5;241;43m.\u001b[39;49m\u001b[43mfft\u001b[49m\u001b[43m(\u001b[49m\u001b[43my\u001b[49m\u001b[43m)\u001b[49m\n\u001b[0;32m     14\u001b[0m     k \u001b[38;5;241m=\u001b[39m jnp\u001b[38;5;241m.\u001b[39mfft\u001b[38;5;241m.\u001b[39mfftfreq(N, d \u001b[38;5;241m=\u001b[39m \u001b[38;5;241m1\u001b[39m) \u001b[38;5;241m*\u001b[39m \u001b[38;5;241m2\u001b[39m \u001b[38;5;241m*\u001b[39m jnp\u001b[38;5;241m.\u001b[39mpi\n\u001b[0;32m     15\u001b[0m     grad_y_hat \u001b[38;5;241m=\u001b[39m \u001b[38;5;241m1\u001b[39mj \u001b[38;5;241m*\u001b[39m k \u001b[38;5;241m*\u001b[39m y_hat\n",
      "File \u001b[1;32mc:\\Users\\Manju\\Documents\\python\\envs\\myenv\\lib\\site-packages\\jax\\_src\\numpy\\fft.py:160\u001b[0m, in \u001b[0;36mfft\u001b[1;34m(a, n, axis, norm)\u001b[0m\n\u001b[0;32m    157\u001b[0m \u001b[38;5;129m@implements\u001b[39m(np\u001b[38;5;241m.\u001b[39mfft\u001b[38;5;241m.\u001b[39mfft)\n\u001b[0;32m    158\u001b[0m \u001b[38;5;28;01mdef\u001b[39;00m \u001b[38;5;21mfft\u001b[39m(a: ArrayLike, n: \u001b[38;5;28mint\u001b[39m \u001b[38;5;241m|\u001b[39m \u001b[38;5;28;01mNone\u001b[39;00m \u001b[38;5;241m=\u001b[39m \u001b[38;5;28;01mNone\u001b[39;00m,\n\u001b[0;32m    159\u001b[0m         axis: \u001b[38;5;28mint\u001b[39m \u001b[38;5;241m=\u001b[39m \u001b[38;5;241m-\u001b[39m\u001b[38;5;241m1\u001b[39m, norm: \u001b[38;5;28mstr\u001b[39m \u001b[38;5;241m|\u001b[39m \u001b[38;5;28;01mNone\u001b[39;00m \u001b[38;5;241m=\u001b[39m \u001b[38;5;28;01mNone\u001b[39;00m) \u001b[38;5;241m-\u001b[39m\u001b[38;5;241m>\u001b[39m Array:\n\u001b[1;32m--> 160\u001b[0m   \u001b[38;5;28;01mreturn\u001b[39;00m \u001b[43m_fft_core_1d\u001b[49m\u001b[43m(\u001b[49m\u001b[38;5;124;43m'\u001b[39;49m\u001b[38;5;124;43mfft\u001b[39;49m\u001b[38;5;124;43m'\u001b[39;49m\u001b[43m,\u001b[49m\u001b[43m \u001b[49m\u001b[43mxla_client\u001b[49m\u001b[38;5;241;43m.\u001b[39;49m\u001b[43mFftType\u001b[49m\u001b[38;5;241;43m.\u001b[39;49m\u001b[43mFFT\u001b[49m\u001b[43m,\u001b[49m\u001b[43m \u001b[49m\u001b[43ma\u001b[49m\u001b[43m,\u001b[49m\u001b[43m \u001b[49m\u001b[43mn\u001b[49m\u001b[38;5;241;43m=\u001b[39;49m\u001b[43mn\u001b[49m\u001b[43m,\u001b[49m\u001b[43m \u001b[49m\u001b[43maxis\u001b[49m\u001b[38;5;241;43m=\u001b[39;49m\u001b[43maxis\u001b[49m\u001b[43m,\u001b[49m\n\u001b[0;32m    161\u001b[0m \u001b[43m                      \u001b[49m\u001b[43mnorm\u001b[49m\u001b[38;5;241;43m=\u001b[39;49m\u001b[43mnorm\u001b[49m\u001b[43m)\u001b[49m\n",
      "File \u001b[1;32mc:\\Users\\Manju\\Documents\\python\\envs\\myenv\\lib\\site-packages\\jax\\_src\\numpy\\fft.py:154\u001b[0m, in \u001b[0;36m_fft_core_1d\u001b[1;34m(func_name, fft_type, a, n, axis, norm)\u001b[0m\n\u001b[0;32m    152\u001b[0m axes \u001b[38;5;241m=\u001b[39m \u001b[38;5;28;01mNone\u001b[39;00m \u001b[38;5;28;01mif\u001b[39;00m axis \u001b[38;5;129;01mis\u001b[39;00m \u001b[38;5;28;01mNone\u001b[39;00m \u001b[38;5;28;01melse\u001b[39;00m [axis]\n\u001b[0;32m    153\u001b[0m s \u001b[38;5;241m=\u001b[39m \u001b[38;5;28;01mNone\u001b[39;00m \u001b[38;5;28;01mif\u001b[39;00m n \u001b[38;5;129;01mis\u001b[39;00m \u001b[38;5;28;01mNone\u001b[39;00m \u001b[38;5;28;01melse\u001b[39;00m [n]\n\u001b[1;32m--> 154\u001b[0m \u001b[38;5;28;01mreturn\u001b[39;00m \u001b[43m_fft_core\u001b[49m\u001b[43m(\u001b[49m\u001b[43mfunc_name\u001b[49m\u001b[43m,\u001b[49m\u001b[43m \u001b[49m\u001b[43mfft_type\u001b[49m\u001b[43m,\u001b[49m\u001b[43m \u001b[49m\u001b[43ma\u001b[49m\u001b[43m,\u001b[49m\u001b[43m \u001b[49m\u001b[43ms\u001b[49m\u001b[43m,\u001b[49m\u001b[43m \u001b[49m\u001b[43maxes\u001b[49m\u001b[43m,\u001b[49m\u001b[43m \u001b[49m\u001b[43mnorm\u001b[49m\u001b[43m)\u001b[49m\n",
      "File \u001b[1;32mc:\\Users\\Manju\\Documents\\python\\envs\\myenv\\lib\\site-packages\\jax\\_src\\numpy\\fft.py:83\u001b[0m, in \u001b[0;36m_fft_core\u001b[1;34m(func_name, fft_type, a, s, axes, norm)\u001b[0m\n\u001b[0;32m     81\u001b[0m \u001b[38;5;28;01mif\u001b[39;00m orig_axes \u001b[38;5;129;01mis\u001b[39;00m \u001b[38;5;129;01mnot\u001b[39;00m \u001b[38;5;28;01mNone\u001b[39;00m:\n\u001b[0;32m     82\u001b[0m   axes \u001b[38;5;241m=\u001b[39m \u001b[38;5;28mtuple\u001b[39m(\u001b[38;5;28mrange\u001b[39m(arr\u001b[38;5;241m.\u001b[39mndim \u001b[38;5;241m-\u001b[39m \u001b[38;5;28mlen\u001b[39m(axes), arr\u001b[38;5;241m.\u001b[39mndim))\n\u001b[1;32m---> 83\u001b[0m   arr \u001b[38;5;241m=\u001b[39m \u001b[43mjnp\u001b[49m\u001b[38;5;241;43m.\u001b[39;49m\u001b[43mmoveaxis\u001b[49m\u001b[43m(\u001b[49m\u001b[43marr\u001b[49m\u001b[43m,\u001b[49m\u001b[43m \u001b[49m\u001b[43morig_axes\u001b[49m\u001b[43m,\u001b[49m\u001b[43m \u001b[49m\u001b[43maxes\u001b[49m\u001b[43m)\u001b[49m\n\u001b[0;32m     85\u001b[0m \u001b[38;5;28;01mif\u001b[39;00m s \u001b[38;5;129;01mis\u001b[39;00m \u001b[38;5;129;01mnot\u001b[39;00m \u001b[38;5;28;01mNone\u001b[39;00m:\n\u001b[0;32m     86\u001b[0m   in_s \u001b[38;5;241m=\u001b[39m \u001b[38;5;28mlist\u001b[39m(arr\u001b[38;5;241m.\u001b[39mshape)\n",
      "File \u001b[1;32mc:\\Users\\Manju\\Documents\\python\\envs\\myenv\\lib\\site-packages\\jax\\_src\\numpy\\lax_numpy.py:1725\u001b[0m, in \u001b[0;36mmoveaxis\u001b[1;34m(a, source, destination)\u001b[0m\n\u001b[0;32m   1678\u001b[0m \u001b[38;5;250m\u001b[39m\u001b[38;5;124;03m\"\"\"Move an array axis to a new position\u001b[39;00m\n\u001b[0;32m   1679\u001b[0m \n\u001b[0;32m   1680\u001b[0m \u001b[38;5;124;03mJAX implementation of :func:`numpy.moveaxis`, implemented in terms of\u001b[39;00m\n\u001b[1;32m   (...)\u001b[0m\n\u001b[0;32m   1722\u001b[0m \u001b[38;5;124;03m  (4, 5, 3, 2)\u001b[39;00m\n\u001b[0;32m   1723\u001b[0m \u001b[38;5;124;03m\"\"\"\u001b[39;00m\n\u001b[0;32m   1724\u001b[0m util\u001b[38;5;241m.\u001b[39mcheck_arraylike(\u001b[38;5;124m\"\u001b[39m\u001b[38;5;124mmoveaxis\u001b[39m\u001b[38;5;124m\"\u001b[39m, a)\n\u001b[1;32m-> 1725\u001b[0m \u001b[38;5;28;01mreturn\u001b[39;00m \u001b[43m_moveaxis\u001b[49m\u001b[43m(\u001b[49m\u001b[43masarray\u001b[49m\u001b[43m(\u001b[49m\u001b[43ma\u001b[49m\u001b[43m)\u001b[49m\u001b[43m,\u001b[49m\u001b[43m \u001b[49m\u001b[43m_ensure_index_tuple\u001b[49m\u001b[43m(\u001b[49m\u001b[43msource\u001b[49m\u001b[43m)\u001b[49m\u001b[43m,\u001b[49m\n\u001b[0;32m   1726\u001b[0m \u001b[43m                 \u001b[49m\u001b[43m_ensure_index_tuple\u001b[49m\u001b[43m(\u001b[49m\u001b[43mdestination\u001b[49m\u001b[43m)\u001b[49m\u001b[43m)\u001b[49m\n",
      "    \u001b[1;31m[... skipping hidden 11 frame]\u001b[0m\n",
      "File \u001b[1;32mc:\\Users\\Manju\\Documents\\python\\envs\\myenv\\lib\\site-packages\\jax\\_src\\numpy\\lax_numpy.py:1730\u001b[0m, in \u001b[0;36m_moveaxis\u001b[1;34m(a, source, destination)\u001b[0m\n\u001b[0;32m   1728\u001b[0m \u001b[38;5;129m@partial\u001b[39m(jit, static_argnames\u001b[38;5;241m=\u001b[39m(\u001b[38;5;124m'\u001b[39m\u001b[38;5;124msource\u001b[39m\u001b[38;5;124m'\u001b[39m, \u001b[38;5;124m'\u001b[39m\u001b[38;5;124mdestination\u001b[39m\u001b[38;5;124m'\u001b[39m), inline\u001b[38;5;241m=\u001b[39m\u001b[38;5;28;01mTrue\u001b[39;00m)\n\u001b[0;32m   1729\u001b[0m \u001b[38;5;28;01mdef\u001b[39;00m \u001b[38;5;21m_moveaxis\u001b[39m(a: Array, source: \u001b[38;5;28mtuple\u001b[39m[\u001b[38;5;28mint\u001b[39m, \u001b[38;5;241m.\u001b[39m\u001b[38;5;241m.\u001b[39m\u001b[38;5;241m.\u001b[39m], destination: \u001b[38;5;28mtuple\u001b[39m[\u001b[38;5;28mint\u001b[39m, \u001b[38;5;241m.\u001b[39m\u001b[38;5;241m.\u001b[39m\u001b[38;5;241m.\u001b[39m]) \u001b[38;5;241m-\u001b[39m\u001b[38;5;241m>\u001b[39m Array:\n\u001b[1;32m-> 1730\u001b[0m   source \u001b[38;5;241m=\u001b[39m \u001b[38;5;28;43mtuple\u001b[39;49m\u001b[43m(\u001b[49m\u001b[43m_canonicalize_axis\u001b[49m\u001b[43m(\u001b[49m\u001b[43mi\u001b[49m\u001b[43m,\u001b[49m\u001b[43m \u001b[49m\u001b[43mndim\u001b[49m\u001b[43m(\u001b[49m\u001b[43ma\u001b[49m\u001b[43m)\u001b[49m\u001b[43m)\u001b[49m\u001b[43m \u001b[49m\u001b[38;5;28;43;01mfor\u001b[39;49;00m\u001b[43m \u001b[49m\u001b[43mi\u001b[49m\u001b[43m \u001b[49m\u001b[38;5;129;43;01min\u001b[39;49;00m\u001b[43m \u001b[49m\u001b[43msource\u001b[49m\u001b[43m)\u001b[49m\n\u001b[0;32m   1731\u001b[0m   destination \u001b[38;5;241m=\u001b[39m \u001b[38;5;28mtuple\u001b[39m(_canonicalize_axis(i, ndim(a)) \u001b[38;5;28;01mfor\u001b[39;00m i \u001b[38;5;129;01min\u001b[39;00m destination)\n\u001b[0;32m   1732\u001b[0m   \u001b[38;5;28;01mif\u001b[39;00m \u001b[38;5;28mlen\u001b[39m(source) \u001b[38;5;241m!=\u001b[39m \u001b[38;5;28mlen\u001b[39m(destination):\n",
      "File \u001b[1;32mc:\\Users\\Manju\\Documents\\python\\envs\\myenv\\lib\\site-packages\\jax\\_src\\numpy\\lax_numpy.py:1730\u001b[0m, in \u001b[0;36m<genexpr>\u001b[1;34m(.0)\u001b[0m\n\u001b[0;32m   1728\u001b[0m \u001b[38;5;129m@partial\u001b[39m(jit, static_argnames\u001b[38;5;241m=\u001b[39m(\u001b[38;5;124m'\u001b[39m\u001b[38;5;124msource\u001b[39m\u001b[38;5;124m'\u001b[39m, \u001b[38;5;124m'\u001b[39m\u001b[38;5;124mdestination\u001b[39m\u001b[38;5;124m'\u001b[39m), inline\u001b[38;5;241m=\u001b[39m\u001b[38;5;28;01mTrue\u001b[39;00m)\n\u001b[0;32m   1729\u001b[0m \u001b[38;5;28;01mdef\u001b[39;00m \u001b[38;5;21m_moveaxis\u001b[39m(a: Array, source: \u001b[38;5;28mtuple\u001b[39m[\u001b[38;5;28mint\u001b[39m, \u001b[38;5;241m.\u001b[39m\u001b[38;5;241m.\u001b[39m\u001b[38;5;241m.\u001b[39m], destination: \u001b[38;5;28mtuple\u001b[39m[\u001b[38;5;28mint\u001b[39m, \u001b[38;5;241m.\u001b[39m\u001b[38;5;241m.\u001b[39m\u001b[38;5;241m.\u001b[39m]) \u001b[38;5;241m-\u001b[39m\u001b[38;5;241m>\u001b[39m Array:\n\u001b[1;32m-> 1730\u001b[0m   source \u001b[38;5;241m=\u001b[39m \u001b[38;5;28mtuple\u001b[39m(\u001b[43m_canonicalize_axis\u001b[49m\u001b[43m(\u001b[49m\u001b[43mi\u001b[49m\u001b[43m,\u001b[49m\u001b[43m \u001b[49m\u001b[43mndim\u001b[49m\u001b[43m(\u001b[49m\u001b[43ma\u001b[49m\u001b[43m)\u001b[49m\u001b[43m)\u001b[49m \u001b[38;5;28;01mfor\u001b[39;00m i \u001b[38;5;129;01min\u001b[39;00m source)\n\u001b[0;32m   1731\u001b[0m   destination \u001b[38;5;241m=\u001b[39m \u001b[38;5;28mtuple\u001b[39m(_canonicalize_axis(i, ndim(a)) \u001b[38;5;28;01mfor\u001b[39;00m i \u001b[38;5;129;01min\u001b[39;00m destination)\n\u001b[0;32m   1732\u001b[0m   \u001b[38;5;28;01mif\u001b[39;00m \u001b[38;5;28mlen\u001b[39m(source) \u001b[38;5;241m!=\u001b[39m \u001b[38;5;28mlen\u001b[39m(destination):\n",
      "File \u001b[1;32mc:\\Users\\Manju\\Documents\\python\\envs\\myenv\\lib\\site-packages\\jax\\_src\\util.py:392\u001b[0m, in \u001b[0;36mcanonicalize_axis\u001b[1;34m(axis, num_dims)\u001b[0m\n\u001b[0;32m    390\u001b[0m axis \u001b[38;5;241m=\u001b[39m operator\u001b[38;5;241m.\u001b[39mindex(axis)\n\u001b[0;32m    391\u001b[0m \u001b[38;5;28;01mif\u001b[39;00m \u001b[38;5;129;01mnot\u001b[39;00m \u001b[38;5;241m-\u001b[39mnum_dims \u001b[38;5;241m<\u001b[39m\u001b[38;5;241m=\u001b[39m axis \u001b[38;5;241m<\u001b[39m num_dims:\n\u001b[1;32m--> 392\u001b[0m   \u001b[38;5;28;01mraise\u001b[39;00m \u001b[38;5;167;01mValueError\u001b[39;00m(\u001b[38;5;124mf\u001b[39m\u001b[38;5;124m\"\u001b[39m\u001b[38;5;124maxis \u001b[39m\u001b[38;5;132;01m{\u001b[39;00maxis\u001b[38;5;132;01m}\u001b[39;00m\u001b[38;5;124m is out of bounds for array of dimension \u001b[39m\u001b[38;5;132;01m{\u001b[39;00mnum_dims\u001b[38;5;132;01m}\u001b[39;00m\u001b[38;5;124m\"\u001b[39m)\n\u001b[0;32m    393\u001b[0m \u001b[38;5;28;01mif\u001b[39;00m axis \u001b[38;5;241m<\u001b[39m \u001b[38;5;241m0\u001b[39m:\n\u001b[0;32m    394\u001b[0m   axis \u001b[38;5;241m=\u001b[39m axis \u001b[38;5;241m+\u001b[39m num_dims\n",
      "\u001b[1;31mValueError\u001b[0m: axis -1 is out of bounds for array of dimension 0"
     ]
    }
   ],
   "source": [
    "\n",
    "\n",
    "losses_record = []\n",
    "epoches_record = []\n",
    "# Main program\n",
    "if __name__ == \"__main__\":\n",
    "    layers = [128, 20, 20, 1]  # Input (x, y, t), hidden layers, output\n",
    "    key = random.PRNGKey(0)\n",
    " \n",
    "    model = SimpleNN(layers, key)\n",
    "    # print_model_architecture(model)\n",
    "    \n",
    "    params = model.params\n",
    "    trained_params = train(model, params, key, losses_record, epoches_record)\n",
    "\n",
    "\n",
    "plt.plot(epoches_record, losses_record)\n",
    "plt.xlabel(\"Epoch\")\n",
    "plt.legend([\"Training Loss\"])"
   ]
  },
  {
   "cell_type": "code",
   "execution_count": null,
   "metadata": {},
   "outputs": [],
   "source": []
  }
 ],
 "metadata": {
  "kernelspec": {
   "display_name": "myenv",
   "language": "python",
   "name": "python3"
  },
  "language_info": {
   "codemirror_mode": {
    "name": "ipython",
    "version": 3
   },
   "file_extension": ".py",
   "mimetype": "text/x-python",
   "name": "python",
   "nbconvert_exporter": "python",
   "pygments_lexer": "ipython3",
   "version": "3.9.21"
  }
 },
 "nbformat": 4,
 "nbformat_minor": 2
}
